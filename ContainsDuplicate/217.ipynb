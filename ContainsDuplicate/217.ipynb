{
 "cells": [
  {
   "cell_type": "code",
   "execution_count": null,
   "metadata": {},
   "outputs": [],
   "source": [
    "class Solution:\n",
    "    def containsDuplicate(self,nums: List[int]) -> bool:\n",
    "        hashet = set()\n",
    "        for n in nums:\n",
    "            if n in hashet:\n",
    "                return True\n",
    "            hashet.add(n)\n",
    "        return False"
   ]
  }
 ],
 "metadata": {
  "language_info": {
   "name": "python"
  },
  "orig_nbformat": 4
 },
 "nbformat": 4,
 "nbformat_minor": 2
}
